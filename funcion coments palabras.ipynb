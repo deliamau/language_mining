{
 "cells": [
  {
   "cell_type": "code",
   "execution_count": 8,
   "metadata": {},
   "outputs": [
    {
     "name": "stdout",
     "output_type": "stream",
     "text": [
      "[['palabra1', 'comentario1'], ['palabra1', 'comentario2'], ['palabra1', 'comentario3'], ['palabra1', 'comentario4'], ['palabra2', 'comentario1'], ['palabra2', 'comentario2'], ['palabra2', 'comentario3'], ['palabra2', 'comentario4'], ['palabra3', 'comentario1'], ['palabra3', 'comentario2'], ['palabra3', 'comentario3'], ['palabra3', 'comentario4']]\n",
      "[['comentario1', 'palabra1'], ['comentario1', 'palabra2'], ['comentario1', 'palabra3'], ['comentario2', 'palabra1'], ['comentario2', 'palabra2'], ['comentario2', 'palabra3'], ['comentario3', 'palabra1'], ['comentario3', 'palabra2'], ['comentario3', 'palabra3'], ['comentario4', 'palabra1'], ['comentario4', 'palabra2'], ['comentario4', 'palabra3']]\n"
     ]
    }
   ],
   "source": [
    "listaP = [\"palabra1\", \"palabra2\", \"palabra3\"]\n",
    "listaC = [\"comentario1\", \"comentario2\", \"comentario3\", \"comentario4\"]\n",
    "\n",
    "def palabraComentario (listaP, listaC):\n",
    "\n",
    "    listaT = []\n",
    "\n",
    "    for p in listaP:\n",
    "        for c in listaC:\n",
    "            listaT.append([p,c])\n",
    "    \n",
    "    return listaT  \n",
    "\n",
    "def comentarioPalabra (listaC, listaP):\n",
    "\n",
    "    listaT = []\n",
    "\n",
    "    for c in listaC:\n",
    "        for p in listaP:\n",
    "            listaT.append([c,p])\n",
    "    \n",
    "    return listaT  \n",
    "\n",
    "print(palabraComentario(listaP,listaC))\n",
    "print(comentarioPalabra(listaC,listaP))\n",
    "            "
   ]
  },
  {
   "cell_type": "code",
   "execution_count": null,
   "metadata": {
    "collapsed": true
   },
   "outputs": [],
   "source": []
  }
 ],
 "metadata": {
  "kernelspec": {
   "display_name": "Python 3",
   "language": "python",
   "name": "python3"
  },
  "language_info": {
   "codemirror_mode": {
    "name": "ipython",
    "version": 3
   },
   "file_extension": ".py",
   "mimetype": "text/x-python",
   "name": "python",
   "nbconvert_exporter": "python",
   "pygments_lexer": "ipython3",
   "version": "3.5.3"
  }
 },
 "nbformat": 4,
 "nbformat_minor": 2
}
